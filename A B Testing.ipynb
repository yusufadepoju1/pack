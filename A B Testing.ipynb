{
 "cells": [
  {
   "cell_type": "code",
   "execution_count": 7,
   "id": "89fef18c",
   "metadata": {},
   "outputs": [
    {
     "name": "stdout",
     "output_type": "stream",
     "text": [
      "Defaulting to user installation because normal site-packages is not writeable\n",
      "Requirement already satisfied: rise in c:\\users\\user\\appdata\\roaming\\python\\python311\\site-packages (5.7.1)\n",
      "Requirement already satisfied: notebook>=6.0 in c:\\programdata\\anaconda3\\lib\\site-packages (from rise) (6.5.4)\n",
      "Requirement already satisfied: jinja2 in c:\\programdata\\anaconda3\\lib\\site-packages (from notebook>=6.0->rise) (3.1.2)\n",
      "Requirement already satisfied: tornado>=6.1 in c:\\users\\user\\appdata\\roaming\\python\\python311\\site-packages (from notebook>=6.0->rise) (6.3.1)\n",
      "Requirement already satisfied: pyzmq>=17 in c:\\users\\user\\appdata\\roaming\\python\\python311\\site-packages (from notebook>=6.0->rise) (25.0.2)\n",
      "Requirement already satisfied: argon2-cffi in c:\\programdata\\anaconda3\\lib\\site-packages (from notebook>=6.0->rise) (21.3.0)\n",
      "Requirement already satisfied: traitlets>=4.2.1 in c:\\users\\user\\appdata\\roaming\\python\\python311\\site-packages (from notebook>=6.0->rise) (5.9.0)\n",
      "Requirement already satisfied: jupyter-core>=4.6.1 in c:\\users\\user\\appdata\\roaming\\python\\python311\\site-packages (from notebook>=6.0->rise) (5.3.0)\n",
      "Requirement already satisfied: jupyter-client>=5.3.4 in c:\\users\\user\\appdata\\roaming\\python\\python311\\site-packages (from notebook>=6.0->rise) (8.2.0)\n",
      "Requirement already satisfied: ipython-genutils in c:\\programdata\\anaconda3\\lib\\site-packages (from notebook>=6.0->rise) (0.2.0)\n",
      "Requirement already satisfied: nbformat in c:\\programdata\\anaconda3\\lib\\site-packages (from notebook>=6.0->rise) (5.9.2)\n",
      "Requirement already satisfied: nbconvert>=5 in c:\\programdata\\anaconda3\\lib\\site-packages (from notebook>=6.0->rise) (6.5.4)\n",
      "Requirement already satisfied: nest-asyncio>=1.5 in c:\\users\\user\\appdata\\roaming\\python\\python311\\site-packages (from notebook>=6.0->rise) (1.5.6)\n",
      "Requirement already satisfied: ipykernel in c:\\users\\user\\appdata\\roaming\\python\\python311\\site-packages (from notebook>=6.0->rise) (6.22.0)\n",
      "Requirement already satisfied: Send2Trash>=1.8.0 in c:\\programdata\\anaconda3\\lib\\site-packages (from notebook>=6.0->rise) (1.8.0)\n",
      "Requirement already satisfied: terminado>=0.8.3 in c:\\programdata\\anaconda3\\lib\\site-packages (from notebook>=6.0->rise) (0.17.1)\n",
      "Requirement already satisfied: prometheus-client in c:\\programdata\\anaconda3\\lib\\site-packages (from notebook>=6.0->rise) (0.14.1)\n",
      "Requirement already satisfied: nbclassic>=0.4.7 in c:\\programdata\\anaconda3\\lib\\site-packages (from notebook>=6.0->rise) (0.5.5)\n",
      "Requirement already satisfied: python-dateutil>=2.8.2 in c:\\users\\user\\appdata\\roaming\\python\\python311\\site-packages (from jupyter-client>=5.3.4->notebook>=6.0->rise) (2.8.2)\n",
      "Requirement already satisfied: platformdirs>=2.5 in c:\\users\\user\\appdata\\roaming\\python\\python311\\site-packages (from jupyter-core>=4.6.1->notebook>=6.0->rise) (3.5.0)\n",
      "Requirement already satisfied: pywin32>=300 in c:\\users\\user\\appdata\\roaming\\python\\python311\\site-packages (from jupyter-core>=4.6.1->notebook>=6.0->rise) (306)\n",
      "Requirement already satisfied: jupyter-server>=1.8 in c:\\programdata\\anaconda3\\lib\\site-packages (from nbclassic>=0.4.7->notebook>=6.0->rise) (1.23.4)\n",
      "Requirement already satisfied: notebook-shim>=0.1.0 in c:\\programdata\\anaconda3\\lib\\site-packages (from nbclassic>=0.4.7->notebook>=6.0->rise) (0.2.2)\n",
      "Requirement already satisfied: lxml in c:\\programdata\\anaconda3\\lib\\site-packages (from nbconvert>=5->notebook>=6.0->rise) (4.9.3)\n",
      "Requirement already satisfied: beautifulsoup4 in c:\\programdata\\anaconda3\\lib\\site-packages (from nbconvert>=5->notebook>=6.0->rise) (4.12.2)\n",
      "Requirement already satisfied: bleach in c:\\programdata\\anaconda3\\lib\\site-packages (from nbconvert>=5->notebook>=6.0->rise) (4.1.0)\n",
      "Requirement already satisfied: defusedxml in c:\\programdata\\anaconda3\\lib\\site-packages (from nbconvert>=5->notebook>=6.0->rise) (0.7.1)\n",
      "Requirement already satisfied: entrypoints>=0.2.2 in c:\\programdata\\anaconda3\\lib\\site-packages (from nbconvert>=5->notebook>=6.0->rise) (0.4)\n",
      "Requirement already satisfied: jupyterlab-pygments in c:\\programdata\\anaconda3\\lib\\site-packages (from nbconvert>=5->notebook>=6.0->rise) (0.1.2)\n",
      "Requirement already satisfied: MarkupSafe>=2.0 in c:\\programdata\\anaconda3\\lib\\site-packages (from nbconvert>=5->notebook>=6.0->rise) (2.1.1)\n",
      "Requirement already satisfied: mistune<2,>=0.8.1 in c:\\programdata\\anaconda3\\lib\\site-packages (from nbconvert>=5->notebook>=6.0->rise) (0.8.4)\n",
      "Requirement already satisfied: nbclient>=0.5.0 in c:\\programdata\\anaconda3\\lib\\site-packages (from nbconvert>=5->notebook>=6.0->rise) (0.5.13)\n",
      "Requirement already satisfied: packaging in c:\\users\\user\\appdata\\roaming\\python\\python311\\site-packages (from nbconvert>=5->notebook>=6.0->rise) (23.1)\n",
      "Requirement already satisfied: pandocfilters>=1.4.1 in c:\\programdata\\anaconda3\\lib\\site-packages (from nbconvert>=5->notebook>=6.0->rise) (1.5.0)\n",
      "Requirement already satisfied: pygments>=2.4.1 in c:\\users\\user\\appdata\\roaming\\python\\python311\\site-packages (from nbconvert>=5->notebook>=6.0->rise) (2.15.1)\n",
      "Requirement already satisfied: tinycss2 in c:\\programdata\\anaconda3\\lib\\site-packages (from nbconvert>=5->notebook>=6.0->rise) (1.2.1)\n",
      "Requirement already satisfied: fastjsonschema in c:\\programdata\\anaconda3\\lib\\site-packages (from nbformat->notebook>=6.0->rise) (2.16.2)\n",
      "Requirement already satisfied: jsonschema>=2.6 in c:\\programdata\\anaconda3\\lib\\site-packages (from nbformat->notebook>=6.0->rise) (4.17.3)\n",
      "Requirement already satisfied: pywinpty>=1.1.0 in c:\\programdata\\anaconda3\\lib\\site-packages (from terminado>=0.8.3->notebook>=6.0->rise) (2.0.10)\n",
      "Requirement already satisfied: argon2-cffi-bindings in c:\\programdata\\anaconda3\\lib\\site-packages (from argon2-cffi->notebook>=6.0->rise) (21.2.0)\n",
      "Requirement already satisfied: comm>=0.1.1 in c:\\users\\user\\appdata\\roaming\\python\\python311\\site-packages (from ipykernel->notebook>=6.0->rise) (0.1.3)\n",
      "Requirement already satisfied: debugpy>=1.6.5 in c:\\users\\user\\appdata\\roaming\\python\\python311\\site-packages (from ipykernel->notebook>=6.0->rise) (1.6.7)\n",
      "Requirement already satisfied: ipython>=7.23.1 in c:\\users\\user\\appdata\\roaming\\python\\python311\\site-packages (from ipykernel->notebook>=6.0->rise) (8.13.1)\n",
      "Requirement already satisfied: matplotlib-inline>=0.1 in c:\\users\\user\\appdata\\roaming\\python\\python311\\site-packages (from ipykernel->notebook>=6.0->rise) (0.1.6)\n",
      "Requirement already satisfied: psutil in c:\\users\\user\\appdata\\roaming\\python\\python311\\site-packages (from ipykernel->notebook>=6.0->rise) (5.9.5)\n",
      "Requirement already satisfied: backcall in c:\\users\\user\\appdata\\roaming\\python\\python311\\site-packages (from ipython>=7.23.1->ipykernel->notebook>=6.0->rise) (0.2.0)\n",
      "Requirement already satisfied: decorator in c:\\users\\user\\appdata\\roaming\\python\\python311\\site-packages (from ipython>=7.23.1->ipykernel->notebook>=6.0->rise) (5.1.1)\n",
      "Requirement already satisfied: jedi>=0.16 in c:\\users\\user\\appdata\\roaming\\python\\python311\\site-packages (from ipython>=7.23.1->ipykernel->notebook>=6.0->rise) (0.18.2)\n",
      "Requirement already satisfied: pickleshare in c:\\users\\user\\appdata\\roaming\\python\\python311\\site-packages (from ipython>=7.23.1->ipykernel->notebook>=6.0->rise) (0.7.5)\n",
      "Requirement already satisfied: prompt-toolkit!=3.0.37,<3.1.0,>=3.0.30 in c:\\users\\user\\appdata\\roaming\\python\\python311\\site-packages (from ipython>=7.23.1->ipykernel->notebook>=6.0->rise) (3.0.38)\n",
      "Requirement already satisfied: stack-data in c:\\users\\user\\appdata\\roaming\\python\\python311\\site-packages (from ipython>=7.23.1->ipykernel->notebook>=6.0->rise) (0.6.2)\n",
      "Requirement already satisfied: colorama in c:\\users\\user\\appdata\\roaming\\python\\python311\\site-packages (from ipython>=7.23.1->ipykernel->notebook>=6.0->rise) (0.4.6)\n",
      "Requirement already satisfied: attrs>=17.4.0 in c:\\users\\user\\appdata\\roaming\\python\\python311\\site-packages (from jsonschema>=2.6->nbformat->notebook>=6.0->rise) (23.2.0)\n",
      "Requirement already satisfied: pyrsistent!=0.17.0,!=0.17.1,!=0.17.2,>=0.14.0 in c:\\programdata\\anaconda3\\lib\\site-packages (from jsonschema>=2.6->nbformat->notebook>=6.0->rise) (0.18.0)\n",
      "Requirement already satisfied: anyio<4,>=3.1.0 in c:\\programdata\\anaconda3\\lib\\site-packages (from jupyter-server>=1.8->nbclassic>=0.4.7->notebook>=6.0->rise) (3.5.0)\n",
      "Requirement already satisfied: websocket-client in c:\\users\\user\\appdata\\roaming\\python\\python311\\site-packages (from jupyter-server>=1.8->nbclassic>=0.4.7->notebook>=6.0->rise) (1.8.0)\n",
      "Requirement already satisfied: six>=1.5 in c:\\users\\user\\appdata\\roaming\\python\\python311\\site-packages (from python-dateutil>=2.8.2->jupyter-client>=5.3.4->notebook>=6.0->rise) (1.16.0)\n",
      "Requirement already satisfied: cffi>=1.0.1 in c:\\programdata\\anaconda3\\lib\\site-packages (from argon2-cffi-bindings->argon2-cffi->notebook>=6.0->rise) (1.15.1)\n",
      "Requirement already satisfied: soupsieve>1.2 in c:\\programdata\\anaconda3\\lib\\site-packages (from beautifulsoup4->nbconvert>=5->notebook>=6.0->rise) (2.4)\n",
      "Requirement already satisfied: webencodings in c:\\programdata\\anaconda3\\lib\\site-packages (from bleach->nbconvert>=5->notebook>=6.0->rise) (0.5.1)\n",
      "Requirement already satisfied: idna>=2.8 in c:\\programdata\\anaconda3\\lib\\site-packages (from anyio<4,>=3.1.0->jupyter-server>=1.8->nbclassic>=0.4.7->notebook>=6.0->rise) (3.4)\n",
      "Requirement already satisfied: sniffio>=1.1 in c:\\users\\user\\appdata\\roaming\\python\\python311\\site-packages (from anyio<4,>=3.1.0->jupyter-server>=1.8->nbclassic>=0.4.7->notebook>=6.0->rise) (1.3.1)\n",
      "Requirement already satisfied: pycparser in c:\\programdata\\anaconda3\\lib\\site-packages (from cffi>=1.0.1->argon2-cffi-bindings->argon2-cffi->notebook>=6.0->rise) (2.21)\n",
      "Requirement already satisfied: parso<0.9.0,>=0.8.0 in c:\\users\\user\\appdata\\roaming\\python\\python311\\site-packages (from jedi>=0.16->ipython>=7.23.1->ipykernel->notebook>=6.0->rise) (0.8.3)\n",
      "Requirement already satisfied: wcwidth in c:\\users\\user\\appdata\\roaming\\python\\python311\\site-packages (from prompt-toolkit!=3.0.37,<3.1.0,>=3.0.30->ipython>=7.23.1->ipykernel->notebook>=6.0->rise) (0.2.6)\n",
      "Requirement already satisfied: executing>=1.2.0 in c:\\users\\user\\appdata\\roaming\\python\\python311\\site-packages (from stack-data->ipython>=7.23.1->ipykernel->notebook>=6.0->rise) (1.2.0)\n",
      "Requirement already satisfied: asttokens>=2.1.0 in c:\\users\\user\\appdata\\roaming\\python\\python311\\site-packages (from stack-data->ipython>=7.23.1->ipykernel->notebook>=6.0->rise) (2.2.1)\n",
      "Requirement already satisfied: pure-eval in c:\\users\\user\\appdata\\roaming\\python\\python311\\site-packages (from stack-data->ipython>=7.23.1->ipykernel->notebook>=6.0->rise) (0.2.2)\n"
     ]
    }
   ],
   "source": [
    "!pip install rise"
   ]
  },
  {
   "cell_type": "code",
   "execution_count": 8,
   "id": "c7cb487b",
   "metadata": {
    "collapsed": true
   },
   "outputs": [
    {
     "name": "stderr",
     "output_type": "stream",
     "text": [
      "Installing C:\\Users\\User\\AppData\\Roaming\\Python\\Python311\\site-packages\\rise\\static -> rise\n",
      "Up to date: C:\\ProgramData\\jupyter\\nbextensions\\rise\\main.css\n",
      "Up to date: C:\\ProgramData\\jupyter\\nbextensions\\rise\\main.js\n",
      "Up to date: C:\\ProgramData\\jupyter\\nbextensions\\rise\\README.md\n",
      "Up to date: C:\\ProgramData\\jupyter\\nbextensions\\rise\\rise.png\n",
      "Up to date: C:\\ProgramData\\jupyter\\nbextensions\\rise\\rise.yaml\n",
      "Up to date: C:\\ProgramData\\jupyter\\nbextensions\\rise\\reveal.js\\.travis.yml\n",
      "Up to date: C:\\ProgramData\\jupyter\\nbextensions\\rise\\reveal.js\\bower.json\n",
      "Up to date: C:\\ProgramData\\jupyter\\nbextensions\\rise\\reveal.js\\CONTRIBUTING.md\n",
      "Up to date: C:\\ProgramData\\jupyter\\nbextensions\\rise\\reveal.js\\demo.html\n",
      "Up to date: C:\\ProgramData\\jupyter\\nbextensions\\rise\\reveal.js\\gruntfile.js\n",
      "Up to date: C:\\ProgramData\\jupyter\\nbextensions\\rise\\reveal.js\\index.html\n",
      "Up to date: C:\\ProgramData\\jupyter\\nbextensions\\rise\\reveal.js\\LICENSE\n",
      "Up to date: C:\\ProgramData\\jupyter\\nbextensions\\rise\\reveal.js\\package.json\n",
      "Up to date: C:\\ProgramData\\jupyter\\nbextensions\\rise\\reveal.js\\README.md\n",
      "Up to date: C:\\ProgramData\\jupyter\\nbextensions\\rise\\reveal.js\\css\\reset.css\n",
      "Up to date: C:\\ProgramData\\jupyter\\nbextensions\\rise\\reveal.js\\css\\reveal.css\n",
      "Up to date: C:\\ProgramData\\jupyter\\nbextensions\\rise\\reveal.js\\css\\reveal.css.upstream\n",
      "Up to date: C:\\ProgramData\\jupyter\\nbextensions\\rise\\reveal.js\\css\\reveal.scss\n",
      "Up to date: C:\\ProgramData\\jupyter\\nbextensions\\rise\\reveal.js\\css\\print\\paper.css\n",
      "Up to date: C:\\ProgramData\\jupyter\\nbextensions\\rise\\reveal.js\\css\\print\\pdf.css\n",
      "Up to date: C:\\ProgramData\\jupyter\\nbextensions\\rise\\reveal.js\\css\\theme\\beige.css\n",
      "Up to date: C:\\ProgramData\\jupyter\\nbextensions\\rise\\reveal.js\\css\\theme\\beige.css.patched\n",
      "Up to date: C:\\ProgramData\\jupyter\\nbextensions\\rise\\reveal.js\\css\\theme\\black.css\n",
      "Up to date: C:\\ProgramData\\jupyter\\nbextensions\\rise\\reveal.js\\css\\theme\\black.css.patched\n",
      "Up to date: C:\\ProgramData\\jupyter\\nbextensions\\rise\\reveal.js\\css\\theme\\blood.css\n",
      "Up to date: C:\\ProgramData\\jupyter\\nbextensions\\rise\\reveal.js\\css\\theme\\blood.css.patched\n",
      "Up to date: C:\\ProgramData\\jupyter\\nbextensions\\rise\\reveal.js\\css\\theme\\league.css\n",
      "Up to date: C:\\ProgramData\\jupyter\\nbextensions\\rise\\reveal.js\\css\\theme\\league.css.patched\n",
      "Up to date: C:\\ProgramData\\jupyter\\nbextensions\\rise\\reveal.js\\css\\theme\\moon.css\n",
      "Up to date: C:\\ProgramData\\jupyter\\nbextensions\\rise\\reveal.js\\css\\theme\\moon.css.patched\n",
      "Up to date: C:\\ProgramData\\jupyter\\nbextensions\\rise\\reveal.js\\css\\theme\\night.css\n",
      "Up to date: C:\\ProgramData\\jupyter\\nbextensions\\rise\\reveal.js\\css\\theme\\night.css.patched\n",
      "Up to date: C:\\ProgramData\\jupyter\\nbextensions\\rise\\reveal.js\\css\\theme\\README.md\n",
      "Up to date: C:\\ProgramData\\jupyter\\nbextensions\\rise\\reveal.js\\css\\theme\\serif.css\n",
      "Up to date: C:\\ProgramData\\jupyter\\nbextensions\\rise\\reveal.js\\css\\theme\\serif.css.patched\n",
      "Up to date: C:\\ProgramData\\jupyter\\nbextensions\\rise\\reveal.js\\css\\theme\\simple.css\n",
      "Up to date: C:\\ProgramData\\jupyter\\nbextensions\\rise\\reveal.js\\css\\theme\\simple.css.patched\n",
      "Up to date: C:\\ProgramData\\jupyter\\nbextensions\\rise\\reveal.js\\css\\theme\\sky.css\n",
      "Up to date: C:\\ProgramData\\jupyter\\nbextensions\\rise\\reveal.js\\css\\theme\\sky.css.patched\n",
      "Up to date: C:\\ProgramData\\jupyter\\nbextensions\\rise\\reveal.js\\css\\theme\\solarized.css\n",
      "Up to date: C:\\ProgramData\\jupyter\\nbextensions\\rise\\reveal.js\\css\\theme\\solarized.css.patched\n",
      "Up to date: C:\\ProgramData\\jupyter\\nbextensions\\rise\\reveal.js\\css\\theme\\white.css\n",
      "Up to date: C:\\ProgramData\\jupyter\\nbextensions\\rise\\reveal.js\\css\\theme\\white.css.patched\n",
      "Up to date: C:\\ProgramData\\jupyter\\nbextensions\\rise\\reveal.js\\css\\theme\\source\\beige.scss\n",
      "Up to date: C:\\ProgramData\\jupyter\\nbextensions\\rise\\reveal.js\\css\\theme\\source\\black.scss\n",
      "Up to date: C:\\ProgramData\\jupyter\\nbextensions\\rise\\reveal.js\\css\\theme\\source\\blood.scss\n",
      "Up to date: C:\\ProgramData\\jupyter\\nbextensions\\rise\\reveal.js\\css\\theme\\source\\league.scss\n",
      "Up to date: C:\\ProgramData\\jupyter\\nbextensions\\rise\\reveal.js\\css\\theme\\source\\moon.scss\n",
      "Up to date: C:\\ProgramData\\jupyter\\nbextensions\\rise\\reveal.js\\css\\theme\\source\\night.scss\n",
      "Up to date: C:\\ProgramData\\jupyter\\nbextensions\\rise\\reveal.js\\css\\theme\\source\\serif.scss\n",
      "Up to date: C:\\ProgramData\\jupyter\\nbextensions\\rise\\reveal.js\\css\\theme\\source\\simple.scss\n",
      "Up to date: C:\\ProgramData\\jupyter\\nbextensions\\rise\\reveal.js\\css\\theme\\source\\sky.scss\n",
      "Up to date: C:\\ProgramData\\jupyter\\nbextensions\\rise\\reveal.js\\css\\theme\\source\\solarized.scss\n",
      "Up to date: C:\\ProgramData\\jupyter\\nbextensions\\rise\\reveal.js\\css\\theme\\source\\white.scss\n",
      "Up to date: C:\\ProgramData\\jupyter\\nbextensions\\rise\\reveal.js\\css\\theme\\template\\mixins.scss\n",
      "Up to date: C:\\ProgramData\\jupyter\\nbextensions\\rise\\reveal.js\\css\\theme\\template\\settings.scss\n",
      "Up to date: C:\\ProgramData\\jupyter\\nbextensions\\rise\\reveal.js\\css\\theme\\template\\theme.scss\n",
      "Up to date: C:\\ProgramData\\jupyter\\nbextensions\\rise\\reveal.js\\js\\reveal.js\n",
      "Up to date: C:\\ProgramData\\jupyter\\nbextensions\\rise\\reveal.js\\lib\\css\\monokai.css\n",
      "Up to date: C:\\ProgramData\\jupyter\\nbextensions\\rise\\reveal.js\\lib\\css\\zenburn.css\n",
      "Up to date: C:\\ProgramData\\jupyter\\nbextensions\\rise\\reveal.js\\lib\\font\\league-gothic\\league-gothic.css\n",
      "Up to date: C:\\ProgramData\\jupyter\\nbextensions\\rise\\reveal.js\\lib\\font\\league-gothic\\league-gothic.eot\n",
      "Up to date: C:\\ProgramData\\jupyter\\nbextensions\\rise\\reveal.js\\lib\\font\\league-gothic\\league-gothic.ttf\n",
      "Up to date: C:\\ProgramData\\jupyter\\nbextensions\\rise\\reveal.js\\lib\\font\\league-gothic\\league-gothic.woff\n",
      "Up to date: C:\\ProgramData\\jupyter\\nbextensions\\rise\\reveal.js\\lib\\font\\league-gothic\\LICENSE\n",
      "Up to date: C:\\ProgramData\\jupyter\\nbextensions\\rise\\reveal.js\\lib\\font\\source-sans-pro\\LICENSE\n",
      "Up to date: C:\\ProgramData\\jupyter\\nbextensions\\rise\\reveal.js\\lib\\font\\source-sans-pro\\source-sans-pro-italic.eot\n",
      "Up to date: C:\\ProgramData\\jupyter\\nbextensions\\rise\\reveal.js\\lib\\font\\source-sans-pro\\source-sans-pro-italic.ttf\n",
      "Up to date: C:\\ProgramData\\jupyter\\nbextensions\\rise\\reveal.js\\lib\\font\\source-sans-pro\\source-sans-pro-italic.woff\n",
      "Up to date: C:\\ProgramData\\jupyter\\nbextensions\\rise\\reveal.js\\lib\\font\\source-sans-pro\\source-sans-pro-regular.eot\n",
      "Up to date: C:\\ProgramData\\jupyter\\nbextensions\\rise\\reveal.js\\lib\\font\\source-sans-pro\\source-sans-pro-regular.ttf\n",
      "Up to date: C:\\ProgramData\\jupyter\\nbextensions\\rise\\reveal.js\\lib\\font\\source-sans-pro\\source-sans-pro-regular.woff\n",
      "Up to date: C:\\ProgramData\\jupyter\\nbextensions\\rise\\reveal.js\\lib\\font\\source-sans-pro\\source-sans-pro-semibold.eot\n",
      "Up to date: C:\\ProgramData\\jupyter\\nbextensions\\rise\\reveal.js\\lib\\font\\source-sans-pro\\source-sans-pro-semibold.ttf\n",
      "Up to date: C:\\ProgramData\\jupyter\\nbextensions\\rise\\reveal.js\\lib\\font\\source-sans-pro\\source-sans-pro-semibold.woff\n",
      "Up to date: C:\\ProgramData\\jupyter\\nbextensions\\rise\\reveal.js\\lib\\font\\source-sans-pro\\source-sans-pro-semibolditalic.eot\n",
      "Up to date: C:\\ProgramData\\jupyter\\nbextensions\\rise\\reveal.js\\lib\\font\\source-sans-pro\\source-sans-pro-semibolditalic.ttf\n",
      "Up to date: C:\\ProgramData\\jupyter\\nbextensions\\rise\\reveal.js\\lib\\font\\source-sans-pro\\source-sans-pro-semibolditalic.woff\n",
      "Up to date: C:\\ProgramData\\jupyter\\nbextensions\\rise\\reveal.js\\lib\\font\\source-sans-pro\\source-sans-pro.css\n",
      "Up to date: C:\\ProgramData\\jupyter\\nbextensions\\rise\\reveal.js\\lib\\js\\html5shiv.js\n",
      "Up to date: C:\\ProgramData\\jupyter\\nbextensions\\rise\\reveal.js\\lib\\js\\promise.js\n",
      "Up to date: C:\\ProgramData\\jupyter\\nbextensions\\rise\\reveal.js\\plugin\\highlight\\highlight.js\n",
      "Up to date: C:\\ProgramData\\jupyter\\nbextensions\\rise\\reveal.js\\plugin\\markdown\\example.html\n",
      "Up to date: C:\\ProgramData\\jupyter\\nbextensions\\rise\\reveal.js\\plugin\\markdown\\example.md\n",
      "Up to date: C:\\ProgramData\\jupyter\\nbextensions\\rise\\reveal.js\\plugin\\markdown\\markdown.js\n",
      "Up to date: C:\\ProgramData\\jupyter\\nbextensions\\rise\\reveal.js\\plugin\\markdown\\marked.js\n",
      "Up to date: C:\\ProgramData\\jupyter\\nbextensions\\rise\\reveal.js\\plugin\\math\\math.js\n",
      "Up to date: C:\\ProgramData\\jupyter\\nbextensions\\rise\\reveal.js\\plugin\\multiplex\\client.js\n",
      "Up to date: C:\\ProgramData\\jupyter\\nbextensions\\rise\\reveal.js\\plugin\\multiplex\\index.js\n",
      "Up to date: C:\\ProgramData\\jupyter\\nbextensions\\rise\\reveal.js\\plugin\\multiplex\\master.js\n",
      "Up to date: C:\\ProgramData\\jupyter\\nbextensions\\rise\\reveal.js\\plugin\\multiplex\\package.json\n",
      "Up to date: C:\\ProgramData\\jupyter\\nbextensions\\rise\\reveal.js\\plugin\\notes\\notes.html\n",
      "Up to date: C:\\ProgramData\\jupyter\\nbextensions\\rise\\reveal.js\\plugin\\notes\\notes.html.patched\n",
      "Up to date: C:\\ProgramData\\jupyter\\nbextensions\\rise\\reveal.js\\plugin\\notes\\notes.js\n",
      "Up to date: C:\\ProgramData\\jupyter\\nbextensions\\rise\\reveal.js\\plugin\\notes\\notes.js.patched\n",
      "Up to date: C:\\ProgramData\\jupyter\\nbextensions\\rise\\reveal.js\\plugin\\notes-server\\client.js\n",
      "Up to date: C:\\ProgramData\\jupyter\\nbextensions\\rise\\reveal.js\\plugin\\notes-server\\index.js\n",
      "Up to date: C:\\ProgramData\\jupyter\\nbextensions\\rise\\reveal.js\\plugin\\notes-server\\notes.html\n",
      "Up to date: C:\\ProgramData\\jupyter\\nbextensions\\rise\\reveal.js\\plugin\\print-pdf\\print-pdf.js\n",
      "Up to date: C:\\ProgramData\\jupyter\\nbextensions\\rise\\reveal.js\\plugin\\search\\search.js\n",
      "Up to date: C:\\ProgramData\\jupyter\\nbextensions\\rise\\reveal.js\\plugin\\zoom-js\\zoom.js\n",
      "Up to date: C:\\ProgramData\\jupyter\\nbextensions\\rise\\reveal.js\\test\\qunit-2.5.0.css\n",
      "Up to date: C:\\ProgramData\\jupyter\\nbextensions\\rise\\reveal.js\\test\\qunit-2.5.0.js\n",
      "Up to date: C:\\ProgramData\\jupyter\\nbextensions\\rise\\reveal.js\\test\\simple.md\n",
      "Up to date: C:\\ProgramData\\jupyter\\nbextensions\\rise\\reveal.js\\test\\test-dependencies-async.html\n",
      "Up to date: C:\\ProgramData\\jupyter\\nbextensions\\rise\\reveal.js\\test\\test-dependencies.html\n",
      "Up to date: C:\\ProgramData\\jupyter\\nbextensions\\rise\\reveal.js\\test\\test-grid-navigation.html\n",
      "Up to date: C:\\ProgramData\\jupyter\\nbextensions\\rise\\reveal.js\\test\\test-iframe-backgrounds.html\n",
      "Up to date: C:\\ProgramData\\jupyter\\nbextensions\\rise\\reveal.js\\test\\test-iframes.html\n",
      "Up to date: C:\\ProgramData\\jupyter\\nbextensions\\rise\\reveal.js\\test\\test-markdown-element-attributes.html\n",
      "Up to date: C:\\ProgramData\\jupyter\\nbextensions\\rise\\reveal.js\\test\\test-markdown-element-attributes.js\n",
      "Up to date: C:\\ProgramData\\jupyter\\nbextensions\\rise\\reveal.js\\test\\test-markdown-external.html\n",
      "Up to date: C:\\ProgramData\\jupyter\\nbextensions\\rise\\reveal.js\\test\\test-markdown-external.js\n",
      "Up to date: C:\\ProgramData\\jupyter\\nbextensions\\rise\\reveal.js\\test\\test-markdown-options.html\n",
      "Up to date: C:\\ProgramData\\jupyter\\nbextensions\\rise\\reveal.js\\test\\test-markdown-options.js\n",
      "Up to date: C:\\ProgramData\\jupyter\\nbextensions\\rise\\reveal.js\\test\\test-markdown-slide-attributes.html\n",
      "Up to date: C:\\ProgramData\\jupyter\\nbextensions\\rise\\reveal.js\\test\\test-markdown-slide-attributes.js\n",
      "Up to date: C:\\ProgramData\\jupyter\\nbextensions\\rise\\reveal.js\\test\\test-markdown.html\n",
      "Up to date: C:\\ProgramData\\jupyter\\nbextensions\\rise\\reveal.js\\test\\test-markdown.js\n",
      "Up to date: C:\\ProgramData\\jupyter\\nbextensions\\rise\\reveal.js\\test\\test-pdf.html\n",
      "Up to date: C:\\ProgramData\\jupyter\\nbextensions\\rise\\reveal.js\\test\\test-pdf.js\n",
      "Up to date: C:\\ProgramData\\jupyter\\nbextensions\\rise\\reveal.js\\test\\test-plugins.html\n",
      "Up to date: C:\\ProgramData\\jupyter\\nbextensions\\rise\\reveal.js\\test\\test-state.html\n",
      "Up to date: C:\\ProgramData\\jupyter\\nbextensions\\rise\\reveal.js\\test\\test.html\n",
      "Up to date: C:\\ProgramData\\jupyter\\nbextensions\\rise\\reveal.js\\test\\test.js\n",
      "Up to date: C:\\ProgramData\\jupyter\\nbextensions\\rise\\reveal.js\\test\\assets\\external-script-a.js\n",
      "Up to date: C:\\ProgramData\\jupyter\\nbextensions\\rise\\reveal.js\\test\\assets\\external-script-b.js\n",
      "Up to date: C:\\ProgramData\\jupyter\\nbextensions\\rise\\reveal.js\\test\\assets\\external-script-c.js\n",
      "Up to date: C:\\ProgramData\\jupyter\\nbextensions\\rise\\reveal.js\\test\\assets\\external-script-d.js\n",
      "Up to date: C:\\ProgramData\\jupyter\\nbextensions\\rise\\reveal.js\\test\\examples\\barebones.html\n",
      "Up to date: C:\\ProgramData\\jupyter\\nbextensions\\rise\\reveal.js\\test\\examples\\embedded-media.html\n",
      "Up to date: C:\\ProgramData\\jupyter\\nbextensions\\rise\\reveal.js\\test\\examples\\math.html\n",
      "Up to date: C:\\ProgramData\\jupyter\\nbextensions\\rise\\reveal.js\\test\\examples\\slide-backgrounds.html\n",
      "Up to date: C:\\ProgramData\\jupyter\\nbextensions\\rise\\reveal.js\\test\\examples\\slide-transitions.html\n",
      "Up to date: C:\\ProgramData\\jupyter\\nbextensions\\rise\\reveal.js\\test\\examples\\assets\\beeping.txt\n",
      "Up to date: C:\\ProgramData\\jupyter\\nbextensions\\rise\\reveal.js\\test\\examples\\assets\\beeping.wav\n",
      "Up to date: C:\\ProgramData\\jupyter\\nbextensions\\rise\\reveal.js\\test\\examples\\assets\\image1.png\n",
      "Up to date: C:\\ProgramData\\jupyter\\nbextensions\\rise\\reveal.js\\test\\examples\\assets\\image2.png\n",
      "Up to date: C:\\ProgramData\\jupyter\\nbextensions\\rise\\reveal.js-chalkboard\\chalkboard.js\n",
      "Up to date: C:\\ProgramData\\jupyter\\nbextensions\\rise\\reveal.js-chalkboard\\README.md\n",
      "Up to date: C:\\ProgramData\\jupyter\\nbextensions\\rise\\reveal.js-chalkboard\\img\\blackboard.png\n",
      "Up to date: C:\\ProgramData\\jupyter\\nbextensions\\rise\\reveal.js-chalkboard\\img\\boardmarker-black.png\n",
      "Up to date: C:\\ProgramData\\jupyter\\nbextensions\\rise\\reveal.js-chalkboard\\img\\boardmarker-blue.png\n",
      "Up to date: C:\\ProgramData\\jupyter\\nbextensions\\rise\\reveal.js-chalkboard\\img\\boardmarker-green.png\n",
      "Up to date: C:\\ProgramData\\jupyter\\nbextensions\\rise\\reveal.js-chalkboard\\img\\boardmarker-orange.png\n",
      "Up to date: C:\\ProgramData\\jupyter\\nbextensions\\rise\\reveal.js-chalkboard\\img\\boardmarker-purple.png\n",
      "Up to date: C:\\ProgramData\\jupyter\\nbextensions\\rise\\reveal.js-chalkboard\\img\\boardmarker-red.png\n",
      "Up to date: C:\\ProgramData\\jupyter\\nbextensions\\rise\\reveal.js-chalkboard\\img\\boardmarker-yellow.png\n",
      "Up to date: C:\\ProgramData\\jupyter\\nbextensions\\rise\\reveal.js-chalkboard\\img\\chalk-blue.png\n",
      "Up to date: C:\\ProgramData\\jupyter\\nbextensions\\rise\\reveal.js-chalkboard\\img\\chalk-green.png\n",
      "Up to date: C:\\ProgramData\\jupyter\\nbextensions\\rise\\reveal.js-chalkboard\\img\\chalk-orange.png\n",
      "Up to date: C:\\ProgramData\\jupyter\\nbextensions\\rise\\reveal.js-chalkboard\\img\\chalk-purple.png\n",
      "Up to date: C:\\ProgramData\\jupyter\\nbextensions\\rise\\reveal.js-chalkboard\\img\\chalk-red.png\n",
      "Up to date: C:\\ProgramData\\jupyter\\nbextensions\\rise\\reveal.js-chalkboard\\img\\chalk-white.png\n",
      "Up to date: C:\\ProgramData\\jupyter\\nbextensions\\rise\\reveal.js-chalkboard\\img\\chalk-yellow.png\n",
      "Up to date: C:\\ProgramData\\jupyter\\nbextensions\\rise\\reveal.js-chalkboard\\img\\sponge.png\n",
      "Up to date: C:\\ProgramData\\jupyter\\nbextensions\\rise\\reveal.js-chalkboard\\img\\whiteboard.png\n",
      "- Validating: ok\n",
      "\n",
      "    To initialize this nbextension in the browser every time the notebook (or other app) loads:\n",
      "    \n",
      "          jupyter nbextension enable rise --py\n",
      "    \n"
     ]
    }
   ],
   "source": [
    "!jupyter-nbextension install --py rise"
   ]
  },
  {
   "cell_type": "code",
   "execution_count": 9,
   "id": "becf0d68",
   "metadata": {
    "scrolled": true
   },
   "outputs": [
    {
     "name": "stderr",
     "output_type": "stream",
     "text": [
      "Enabling notebook extension rise/main...\n",
      "      - Validating: ok\n"
     ]
    }
   ],
   "source": [
    "!jupyter-nbextension enable rise --py"
   ]
  },
  {
   "cell_type": "markdown",
   "id": "275bf2d8",
   "metadata": {},
   "source": [
    "### A/B Testing: Experimentation for adoption between Old and New Design"
   ]
  },
  {
   "cell_type": "markdown",
   "id": "dd2e1dc7",
   "metadata": {},
   "source": [
    "**Problem Statement**\n",
    "\n",
    "The UX designer at a medium-sized online e-commerce business worked on a new version of the product page, with the hope that it will lead to a higher conversion rate. The product manager (PM) told you that the current conversion rate is about 16% on average throughout the year, and that the team would be happy with an increase of 2%, meaning that the new design will be considered a success if it raises the conversion rate to 20%."
   ]
  },
  {
   "cell_type": "code",
   "execution_count": 2,
   "id": "8d1d1bdc",
   "metadata": {},
   "outputs": [
    {
     "name": "stderr",
     "output_type": "stream",
     "text": [
      "C:\\Users\\User\\AppData\\Roaming\\Python\\Python311\\site-packages\\pandas\\core\\arrays\\masked.py:60: UserWarning: Pandas requires version '1.3.6' or newer of 'bottleneck' (version '1.3.5' currently installed).\n",
      "  from pandas.core import (\n"
     ]
    }
   ],
   "source": [
    "import numpy as np\n",
    "import pandas as pd\n",
    "import scipy.stats as stats\n",
    "import statsmodels.stats.api as sms\n",
    "import matplotlib as mpl\n",
    "import matplotlib.pyplot as plt\n",
    "import seaborn as sns\n",
    "from math import ceil\n",
    "\n",
    "%matplotlib inline\n",
    "\n"
   ]
  },
  {
   "cell_type": "code",
   "execution_count": 160,
   "id": "27d80adc",
   "metadata": {},
   "outputs": [
    {
     "data": {
      "text/plain": [
       "4720"
      ]
     },
     "execution_count": 160,
     "metadata": {},
     "output_type": "execute_result"
    }
   ],
   "source": [
    "# calculating the effective size based on the expected rate\n",
    "\n",
    "effective_size = sms.proportion_effectsize(0.13, 0.15)\n",
    "\n",
    "\n",
    "# calculate the required size and round it up to whole number\n",
    "required_n = ceil(sms.NormalIndPower().solve_power(\n",
    "    effective_size,\n",
    "    power=0.8,\n",
    "    alpha=0.05,\n",
    "    ratio=1\n",
    "    )\n",
    ")\n",
    "\n",
    "required_n"
   ]
  },
  {
   "cell_type": "code",
   "execution_count": 161,
   "id": "9abac7bb",
   "metadata": {},
   "outputs": [
    {
     "data": {
      "text/html": [
       "<div>\n",
       "<style scoped>\n",
       "    .dataframe tbody tr th:only-of-type {\n",
       "        vertical-align: middle;\n",
       "    }\n",
       "\n",
       "    .dataframe tbody tr th {\n",
       "        vertical-align: top;\n",
       "    }\n",
       "\n",
       "    .dataframe thead th {\n",
       "        text-align: right;\n",
       "    }\n",
       "</style>\n",
       "<table border=\"1\" class=\"dataframe\">\n",
       "  <thead>\n",
       "    <tr style=\"text-align: right;\">\n",
       "      <th></th>\n",
       "      <th>user_id</th>\n",
       "      <th>timestamp</th>\n",
       "      <th>group</th>\n",
       "      <th>landing_page</th>\n",
       "      <th>converted</th>\n",
       "    </tr>\n",
       "  </thead>\n",
       "  <tbody>\n",
       "    <tr>\n",
       "      <th>0</th>\n",
       "      <td>851104</td>\n",
       "      <td>2017-01-21 22:11:48.556739</td>\n",
       "      <td>control</td>\n",
       "      <td>old_page</td>\n",
       "      <td>0</td>\n",
       "    </tr>\n",
       "    <tr>\n",
       "      <th>1</th>\n",
       "      <td>804228</td>\n",
       "      <td>2017-01-12 08:01:45.159739</td>\n",
       "      <td>control</td>\n",
       "      <td>old_page</td>\n",
       "      <td>0</td>\n",
       "    </tr>\n",
       "    <tr>\n",
       "      <th>2</th>\n",
       "      <td>661590</td>\n",
       "      <td>2017-01-11 16:55:06.154213</td>\n",
       "      <td>treatment</td>\n",
       "      <td>new_page</td>\n",
       "      <td>0</td>\n",
       "    </tr>\n",
       "  </tbody>\n",
       "</table>\n",
       "</div>"
      ],
      "text/plain": [
       "   user_id                   timestamp      group landing_page  converted\n",
       "0   851104  2017-01-21 22:11:48.556739    control     old_page          0\n",
       "1   804228  2017-01-12 08:01:45.159739    control     old_page          0\n",
       "2   661590  2017-01-11 16:55:06.154213  treatment     new_page          0"
      ]
     },
     "execution_count": 161,
     "metadata": {},
     "output_type": "execute_result"
    }
   ],
   "source": [
    "#importing the data\n",
    "\n",
    "df = pd.read_csv('C:/Users/User/Desktop/ab_data.csv')\n",
    "\n",
    "df.head(3)"
   ]
  },
  {
   "cell_type": "code",
   "execution_count": 162,
   "id": "1b495f31",
   "metadata": {},
   "outputs": [
    {
     "data": {
      "text/plain": [
       "(294478, 5)"
      ]
     },
     "execution_count": 162,
     "metadata": {},
     "output_type": "execute_result"
    }
   ],
   "source": [
    "df.shape"
   ]
  },
  {
   "cell_type": "code",
   "execution_count": 163,
   "id": "7cd6f220",
   "metadata": {
    "scrolled": true
   },
   "outputs": [
    {
     "data": {
      "text/html": [
       "<div>\n",
       "<style scoped>\n",
       "    .dataframe tbody tr th:only-of-type {\n",
       "        vertical-align: middle;\n",
       "    }\n",
       "\n",
       "    .dataframe tbody tr th {\n",
       "        vertical-align: top;\n",
       "    }\n",
       "\n",
       "    .dataframe thead th {\n",
       "        text-align: right;\n",
       "    }\n",
       "</style>\n",
       "<table border=\"1\" class=\"dataframe\">\n",
       "  <thead>\n",
       "    <tr style=\"text-align: right;\">\n",
       "      <th>landing_page</th>\n",
       "      <th>new_page</th>\n",
       "      <th>old_page</th>\n",
       "    </tr>\n",
       "    <tr>\n",
       "      <th>group</th>\n",
       "      <th></th>\n",
       "      <th></th>\n",
       "    </tr>\n",
       "  </thead>\n",
       "  <tbody>\n",
       "    <tr>\n",
       "      <th>control</th>\n",
       "      <td>1928</td>\n",
       "      <td>145274</td>\n",
       "    </tr>\n",
       "    <tr>\n",
       "      <th>treatment</th>\n",
       "      <td>145311</td>\n",
       "      <td>1965</td>\n",
       "    </tr>\n",
       "  </tbody>\n",
       "</table>\n",
       "</div>"
      ],
      "text/plain": [
       "landing_page  new_page  old_page\n",
       "group                           \n",
       "control           1928    145274\n",
       "treatment       145311      1965"
      ]
     },
     "execution_count": 163,
     "metadata": {},
     "output_type": "execute_result"
    }
   ],
   "source": [
    "#check if all the control group are seeing the old page and vice versa\n",
    "\n",
    "\n",
    "pd.crosstab(df['group'], df['landing_page'])"
   ]
  },
  {
   "cell_type": "code",
   "execution_count": 164,
   "id": "76dfcc22",
   "metadata": {},
   "outputs": [
    {
     "data": {
      "text/plain": [
       "3894"
      ]
     },
     "execution_count": 164,
     "metadata": {},
     "output_type": "execute_result"
    }
   ],
   "source": [
    "session_counts = df['user_id'].value_counts()\n",
    "multi_users = session_counts[session_counts > 1].count()\n",
    "multi_users"
   ]
  },
  {
   "cell_type": "code",
   "execution_count": 165,
   "id": "227f4dc2",
   "metadata": {},
   "outputs": [
    {
     "data": {
      "text/plain": [
       "(286690, 5)"
      ]
     },
     "execution_count": 165,
     "metadata": {},
     "output_type": "execute_result"
    }
   ],
   "source": [
    "users_to_drop = session_counts[session_counts > 1].index\n",
    "    \n",
    "df = df[~df['user_id'].isin(users_to_drop)]\n",
    "df.shape"
   ]
  },
  {
   "cell_type": "code",
   "execution_count": 166,
   "id": "1e56d865",
   "metadata": {},
   "outputs": [
    {
     "data": {
      "text/html": [
       "<div>\n",
       "<style scoped>\n",
       "    .dataframe tbody tr th:only-of-type {\n",
       "        vertical-align: middle;\n",
       "    }\n",
       "\n",
       "    .dataframe tbody tr th {\n",
       "        vertical-align: top;\n",
       "    }\n",
       "\n",
       "    .dataframe thead th {\n",
       "        text-align: right;\n",
       "    }\n",
       "</style>\n",
       "<table border=\"1\" class=\"dataframe\">\n",
       "  <thead>\n",
       "    <tr style=\"text-align: right;\">\n",
       "      <th></th>\n",
       "      <th>user_id</th>\n",
       "      <th>timestamp</th>\n",
       "      <th>group</th>\n",
       "      <th>landing_page</th>\n",
       "      <th>converted</th>\n",
       "    </tr>\n",
       "  </thead>\n",
       "  <tbody>\n",
       "    <tr>\n",
       "      <th>0</th>\n",
       "      <td>851104</td>\n",
       "      <td>2017-01-21 22:11:48.556739</td>\n",
       "      <td>control</td>\n",
       "      <td>old_page</td>\n",
       "      <td>0</td>\n",
       "    </tr>\n",
       "    <tr>\n",
       "      <th>1</th>\n",
       "      <td>804228</td>\n",
       "      <td>2017-01-12 08:01:45.159739</td>\n",
       "      <td>control</td>\n",
       "      <td>old_page</td>\n",
       "      <td>0</td>\n",
       "    </tr>\n",
       "    <tr>\n",
       "      <th>4</th>\n",
       "      <td>864975</td>\n",
       "      <td>2017-01-21 01:52:26.210827</td>\n",
       "      <td>control</td>\n",
       "      <td>old_page</td>\n",
       "      <td>1</td>\n",
       "    </tr>\n",
       "    <tr>\n",
       "      <th>5</th>\n",
       "      <td>936923</td>\n",
       "      <td>2017-01-10 15:20:49.083499</td>\n",
       "      <td>control</td>\n",
       "      <td>old_page</td>\n",
       "      <td>0</td>\n",
       "    </tr>\n",
       "    <tr>\n",
       "      <th>7</th>\n",
       "      <td>719014</td>\n",
       "      <td>2017-01-17 01:48:29.539573</td>\n",
       "      <td>control</td>\n",
       "      <td>old_page</td>\n",
       "      <td>0</td>\n",
       "    </tr>\n",
       "    <tr>\n",
       "      <th>...</th>\n",
       "      <td>...</td>\n",
       "      <td>...</td>\n",
       "      <td>...</td>\n",
       "      <td>...</td>\n",
       "      <td>...</td>\n",
       "    </tr>\n",
       "    <tr>\n",
       "      <th>294471</th>\n",
       "      <td>718310</td>\n",
       "      <td>2017-01-21 22:44:20.378320</td>\n",
       "      <td>control</td>\n",
       "      <td>old_page</td>\n",
       "      <td>0</td>\n",
       "    </tr>\n",
       "    <tr>\n",
       "      <th>294473</th>\n",
       "      <td>751197</td>\n",
       "      <td>2017-01-03 22:28:38.630509</td>\n",
       "      <td>control</td>\n",
       "      <td>old_page</td>\n",
       "      <td>0</td>\n",
       "    </tr>\n",
       "    <tr>\n",
       "      <th>294474</th>\n",
       "      <td>945152</td>\n",
       "      <td>2017-01-12 00:51:57.078372</td>\n",
       "      <td>control</td>\n",
       "      <td>old_page</td>\n",
       "      <td>0</td>\n",
       "    </tr>\n",
       "    <tr>\n",
       "      <th>294475</th>\n",
       "      <td>734608</td>\n",
       "      <td>2017-01-22 11:45:03.439544</td>\n",
       "      <td>control</td>\n",
       "      <td>old_page</td>\n",
       "      <td>0</td>\n",
       "    </tr>\n",
       "    <tr>\n",
       "      <th>294476</th>\n",
       "      <td>697314</td>\n",
       "      <td>2017-01-15 01:20:28.957438</td>\n",
       "      <td>control</td>\n",
       "      <td>old_page</td>\n",
       "      <td>0</td>\n",
       "    </tr>\n",
       "  </tbody>\n",
       "</table>\n",
       "<p>143293 rows × 5 columns</p>\n",
       "</div>"
      ],
      "text/plain": [
       "        user_id                   timestamp    group landing_page  converted\n",
       "0        851104  2017-01-21 22:11:48.556739  control     old_page          0\n",
       "1        804228  2017-01-12 08:01:45.159739  control     old_page          0\n",
       "4        864975  2017-01-21 01:52:26.210827  control     old_page          1\n",
       "5        936923  2017-01-10 15:20:49.083499  control     old_page          0\n",
       "7        719014  2017-01-17 01:48:29.539573  control     old_page          0\n",
       "...         ...                         ...      ...          ...        ...\n",
       "294471   718310  2017-01-21 22:44:20.378320  control     old_page          0\n",
       "294473   751197  2017-01-03 22:28:38.630509  control     old_page          0\n",
       "294474   945152  2017-01-12 00:51:57.078372  control     old_page          0\n",
       "294475   734608  2017-01-22 11:45:03.439544  control     old_page          0\n",
       "294476   697314  2017-01-15 01:20:28.957438  control     old_page          0\n",
       "\n",
       "[143293 rows x 5 columns]"
      ]
     },
     "execution_count": 166,
     "metadata": {},
     "output_type": "execute_result"
    }
   ],
   "source": [
    "control_group = df[df['group'] == 'control']\n",
    "control_group "
   ]
  },
  {
   "cell_type": "code",
   "execution_count": 167,
   "id": "9abf73f9",
   "metadata": {},
   "outputs": [
    {
     "data": {
      "text/html": [
       "<div>\n",
       "<style scoped>\n",
       "    .dataframe tbody tr th:only-of-type {\n",
       "        vertical-align: middle;\n",
       "    }\n",
       "\n",
       "    .dataframe tbody tr th {\n",
       "        vertical-align: top;\n",
       "    }\n",
       "\n",
       "    .dataframe thead th {\n",
       "        text-align: right;\n",
       "    }\n",
       "</style>\n",
       "<table border=\"1\" class=\"dataframe\">\n",
       "  <thead>\n",
       "    <tr style=\"text-align: right;\">\n",
       "      <th></th>\n",
       "      <th>user_id</th>\n",
       "      <th>timestamp</th>\n",
       "      <th>group</th>\n",
       "      <th>landing_page</th>\n",
       "      <th>converted</th>\n",
       "    </tr>\n",
       "  </thead>\n",
       "  <tbody>\n",
       "    <tr>\n",
       "      <th>2</th>\n",
       "      <td>661590</td>\n",
       "      <td>2017-01-11 16:55:06.154213</td>\n",
       "      <td>treatment</td>\n",
       "      <td>new_page</td>\n",
       "      <td>0</td>\n",
       "    </tr>\n",
       "    <tr>\n",
       "      <th>3</th>\n",
       "      <td>853541</td>\n",
       "      <td>2017-01-08 18:28:03.143765</td>\n",
       "      <td>treatment</td>\n",
       "      <td>new_page</td>\n",
       "      <td>0</td>\n",
       "    </tr>\n",
       "    <tr>\n",
       "      <th>6</th>\n",
       "      <td>679687</td>\n",
       "      <td>2017-01-19 03:26:46.940749</td>\n",
       "      <td>treatment</td>\n",
       "      <td>new_page</td>\n",
       "      <td>1</td>\n",
       "    </tr>\n",
       "    <tr>\n",
       "      <th>8</th>\n",
       "      <td>817355</td>\n",
       "      <td>2017-01-04 17:58:08.979471</td>\n",
       "      <td>treatment</td>\n",
       "      <td>new_page</td>\n",
       "      <td>1</td>\n",
       "    </tr>\n",
       "    <tr>\n",
       "      <th>9</th>\n",
       "      <td>839785</td>\n",
       "      <td>2017-01-15 18:11:06.610965</td>\n",
       "      <td>treatment</td>\n",
       "      <td>new_page</td>\n",
       "      <td>1</td>\n",
       "    </tr>\n",
       "  </tbody>\n",
       "</table>\n",
       "</div>"
      ],
      "text/plain": [
       "   user_id                   timestamp      group landing_page  converted\n",
       "2   661590  2017-01-11 16:55:06.154213  treatment     new_page          0\n",
       "3   853541  2017-01-08 18:28:03.143765  treatment     new_page          0\n",
       "6   679687  2017-01-19 03:26:46.940749  treatment     new_page          1\n",
       "8   817355  2017-01-04 17:58:08.979471  treatment     new_page          1\n",
       "9   839785  2017-01-15 18:11:06.610965  treatment     new_page          1"
      ]
     },
     "execution_count": 167,
     "metadata": {},
     "output_type": "execute_result"
    }
   ],
   "source": [
    "treatment_group = df[df['group'] == 'treatment']\n",
    "treatment_group.head()"
   ]
  },
  {
   "cell_type": "code",
   "execution_count": 168,
   "id": "045dff8b",
   "metadata": {},
   "outputs": [
    {
     "data": {
      "text/html": [
       "<div>\n",
       "<style scoped>\n",
       "    .dataframe tbody tr th:only-of-type {\n",
       "        vertical-align: middle;\n",
       "    }\n",
       "\n",
       "    .dataframe tbody tr th {\n",
       "        vertical-align: top;\n",
       "    }\n",
       "\n",
       "    .dataframe thead th {\n",
       "        text-align: right;\n",
       "    }\n",
       "</style>\n",
       "<table border=\"1\" class=\"dataframe\">\n",
       "  <thead>\n",
       "    <tr style=\"text-align: right;\">\n",
       "      <th></th>\n",
       "      <th>user_id</th>\n",
       "      <th>timestamp</th>\n",
       "      <th>group</th>\n",
       "      <th>landing_page</th>\n",
       "      <th>converted</th>\n",
       "    </tr>\n",
       "  </thead>\n",
       "  <tbody>\n",
       "    <tr>\n",
       "      <th>186628</th>\n",
       "      <td>763854</td>\n",
       "      <td>2017-01-21 03:43:17.188315</td>\n",
       "      <td>control</td>\n",
       "      <td>old_page</td>\n",
       "      <td>0</td>\n",
       "    </tr>\n",
       "    <tr>\n",
       "      <th>57904</th>\n",
       "      <td>690555</td>\n",
       "      <td>2017-01-18 06:38:13.079449</td>\n",
       "      <td>control</td>\n",
       "      <td>old_page</td>\n",
       "      <td>0</td>\n",
       "    </tr>\n",
       "    <tr>\n",
       "      <th>13276</th>\n",
       "      <td>861520</td>\n",
       "      <td>2017-01-06 21:13:40.044766</td>\n",
       "      <td>control</td>\n",
       "      <td>old_page</td>\n",
       "      <td>0</td>\n",
       "    </tr>\n",
       "    <tr>\n",
       "      <th>228415</th>\n",
       "      <td>630778</td>\n",
       "      <td>2017-01-05 16:42:36.995204</td>\n",
       "      <td>control</td>\n",
       "      <td>old_page</td>\n",
       "      <td>0</td>\n",
       "    </tr>\n",
       "    <tr>\n",
       "      <th>96065</th>\n",
       "      <td>656634</td>\n",
       "      <td>2017-01-04 15:31:21.676130</td>\n",
       "      <td>control</td>\n",
       "      <td>old_page</td>\n",
       "      <td>0</td>\n",
       "    </tr>\n",
       "  </tbody>\n",
       "</table>\n",
       "</div>"
      ],
      "text/plain": [
       "        user_id                   timestamp    group landing_page  converted\n",
       "186628   763854  2017-01-21 03:43:17.188315  control     old_page          0\n",
       "57904    690555  2017-01-18 06:38:13.079449  control     old_page          0\n",
       "13276    861520  2017-01-06 21:13:40.044766  control     old_page          0\n",
       "228415   630778  2017-01-05 16:42:36.995204  control     old_page          0\n",
       "96065    656634  2017-01-04 15:31:21.676130  control     old_page          0"
      ]
     },
     "execution_count": 168,
     "metadata": {},
     "output_type": "execute_result"
    }
   ],
   "source": [
    "control_sample = control_group.sample(n=required_n, random_state=22)\n",
    "control_sample.head()"
   ]
  },
  {
   "cell_type": "code",
   "execution_count": 169,
   "id": "cfcffd4d",
   "metadata": {},
   "outputs": [],
   "source": [
    "control_sample = df[df['group'] == 'control'].sample(n=required_n, random_state=22)\n",
    "treatment_sample = df[df['group'] == 'treatment'].sample(n=required_n, random_state=22)"
   ]
  },
  {
   "cell_type": "code",
   "execution_count": 170,
   "id": "2a533f8d",
   "metadata": {},
   "outputs": [
    {
     "data": {
      "text/html": [
       "<div>\n",
       "<style scoped>\n",
       "    .dataframe tbody tr th:only-of-type {\n",
       "        vertical-align: middle;\n",
       "    }\n",
       "\n",
       "    .dataframe tbody tr th {\n",
       "        vertical-align: top;\n",
       "    }\n",
       "\n",
       "    .dataframe thead th {\n",
       "        text-align: right;\n",
       "    }\n",
       "</style>\n",
       "<table border=\"1\" class=\"dataframe\">\n",
       "  <thead>\n",
       "    <tr style=\"text-align: right;\">\n",
       "      <th></th>\n",
       "      <th>user_id</th>\n",
       "      <th>timestamp</th>\n",
       "      <th>group</th>\n",
       "      <th>landing_page</th>\n",
       "      <th>converted</th>\n",
       "    </tr>\n",
       "  </thead>\n",
       "  <tbody>\n",
       "    <tr>\n",
       "      <th>0</th>\n",
       "      <td>763854</td>\n",
       "      <td>2017-01-21 03:43:17.188315</td>\n",
       "      <td>control</td>\n",
       "      <td>old_page</td>\n",
       "      <td>0</td>\n",
       "    </tr>\n",
       "    <tr>\n",
       "      <th>1</th>\n",
       "      <td>690555</td>\n",
       "      <td>2017-01-18 06:38:13.079449</td>\n",
       "      <td>control</td>\n",
       "      <td>old_page</td>\n",
       "      <td>0</td>\n",
       "    </tr>\n",
       "    <tr>\n",
       "      <th>2</th>\n",
       "      <td>861520</td>\n",
       "      <td>2017-01-06 21:13:40.044766</td>\n",
       "      <td>control</td>\n",
       "      <td>old_page</td>\n",
       "      <td>0</td>\n",
       "    </tr>\n",
       "    <tr>\n",
       "      <th>3</th>\n",
       "      <td>630778</td>\n",
       "      <td>2017-01-05 16:42:36.995204</td>\n",
       "      <td>control</td>\n",
       "      <td>old_page</td>\n",
       "      <td>0</td>\n",
       "    </tr>\n",
       "    <tr>\n",
       "      <th>4</th>\n",
       "      <td>656634</td>\n",
       "      <td>2017-01-04 15:31:21.676130</td>\n",
       "      <td>control</td>\n",
       "      <td>old_page</td>\n",
       "      <td>0</td>\n",
       "    </tr>\n",
       "  </tbody>\n",
       "</table>\n",
       "</div>"
      ],
      "text/plain": [
       "   user_id                   timestamp    group landing_page  converted\n",
       "0   763854  2017-01-21 03:43:17.188315  control     old_page          0\n",
       "1   690555  2017-01-18 06:38:13.079449  control     old_page          0\n",
       "2   861520  2017-01-06 21:13:40.044766  control     old_page          0\n",
       "3   630778  2017-01-05 16:42:36.995204  control     old_page          0\n",
       "4   656634  2017-01-04 15:31:21.676130  control     old_page          0"
      ]
     },
     "execution_count": 170,
     "metadata": {},
     "output_type": "execute_result"
    }
   ],
   "source": [
    "ab_test = pd.concat([control_sample, treatment_sample], axis=0)\n",
    "ab_test.reset_index(drop=True, inplace=True)\n",
    "ab_test.head()"
   ]
  },
  {
   "cell_type": "code",
   "execution_count": 171,
   "id": "95577140",
   "metadata": {
    "scrolled": true
   },
   "outputs": [
    {
     "data": {
      "text/plain": [
       "group\n",
       "control      4720\n",
       "treatment    4720\n",
       "Name: count, dtype: int64"
      ]
     },
     "execution_count": 171,
     "metadata": {},
     "output_type": "execute_result"
    }
   ],
   "source": [
    "ab_test['group'].value_counts()"
   ]
  },
  {
   "cell_type": "code",
   "execution_count": 172,
   "id": "0afb2f20",
   "metadata": {},
   "outputs": [
    {
     "data": {
      "text/html": [
       "<style type=\"text/css\">\n",
       "</style>\n",
       "<table id=\"T_63aa0\">\n",
       "  <thead>\n",
       "    <tr>\n",
       "      <th class=\"blank level0\" >&nbsp;</th>\n",
       "      <th id=\"T_63aa0_level0_col0\" class=\"col_heading level0 col0\" >conversion_rate</th>\n",
       "      <th id=\"T_63aa0_level0_col1\" class=\"col_heading level0 col1\" >std_deviation</th>\n",
       "      <th id=\"T_63aa0_level0_col2\" class=\"col_heading level0 col2\" >std_error</th>\n",
       "    </tr>\n",
       "    <tr>\n",
       "      <th class=\"index_name level0\" >group</th>\n",
       "      <th class=\"blank col0\" >&nbsp;</th>\n",
       "      <th class=\"blank col1\" >&nbsp;</th>\n",
       "      <th class=\"blank col2\" >&nbsp;</th>\n",
       "    </tr>\n",
       "  </thead>\n",
       "  <tbody>\n",
       "    <tr>\n",
       "      <th id=\"T_63aa0_level0_row0\" class=\"row_heading level0 row0\" >control</th>\n",
       "      <td id=\"T_63aa0_row0_col0\" class=\"data row0 col0\" >0.123</td>\n",
       "      <td id=\"T_63aa0_row0_col1\" class=\"data row0 col1\" >0.329</td>\n",
       "      <td id=\"T_63aa0_row0_col2\" class=\"data row0 col2\" >0.005</td>\n",
       "    </tr>\n",
       "    <tr>\n",
       "      <th id=\"T_63aa0_level0_row1\" class=\"row_heading level0 row1\" >treatment</th>\n",
       "      <td id=\"T_63aa0_row1_col0\" class=\"data row1 col0\" >0.126</td>\n",
       "      <td id=\"T_63aa0_row1_col1\" class=\"data row1 col1\" >0.331</td>\n",
       "      <td id=\"T_63aa0_row1_col2\" class=\"data row1 col2\" >0.005</td>\n",
       "    </tr>\n",
       "  </tbody>\n",
       "</table>\n"
      ],
      "text/plain": [
       "<pandas.io.formats.style.Styler at 0x2ad199761d0>"
      ]
     },
     "execution_count": 172,
     "metadata": {},
     "output_type": "execute_result"
    }
   ],
   "source": [
    "conversion_rates = ab_test.groupby('group')['converted']\n",
    "\n",
    "std_p = lambda x: np.std(x, ddof=0)              # Std. deviation of the proportion\n",
    "se_p = lambda x: stats.sem(x, ddof=0)            # Std. error of the proportion (std / sqrt(n))\n",
    "\n",
    "conversion_rates = conversion_rates.agg([np.mean, std_p, se_p])\n",
    "conversion_rates.columns = ['conversion_rate', 'std_deviation', 'std_error']\n",
    "\n",
    "\n",
    "conversion_rates.style.format('{:.3f}')"
   ]
  },
  {
   "cell_type": "code",
   "execution_count": 173,
   "id": "2181e1e2",
   "metadata": {
    "scrolled": true
   },
   "outputs": [],
   "source": [
    "conversion_rates = ab_test.groupby('group')['converted']\n",
    "\n"
   ]
  },
  {
   "cell_type": "code",
   "execution_count": 174,
   "id": "87c5c2c4",
   "metadata": {},
   "outputs": [],
   "source": [
    "std_p = lambda x: np.std(x, ddof=0)\n",
    "se_p = lambda x: stats.sem(x, ddof=0)\n",
    "\n"
   ]
  },
  {
   "cell_type": "code",
   "execution_count": 175,
   "id": "ad0ccf12",
   "metadata": {},
   "outputs": [
    {
     "data": {
      "text/html": [
       "<div>\n",
       "<style scoped>\n",
       "    .dataframe tbody tr th:only-of-type {\n",
       "        vertical-align: middle;\n",
       "    }\n",
       "\n",
       "    .dataframe tbody tr th {\n",
       "        vertical-align: top;\n",
       "    }\n",
       "\n",
       "    .dataframe thead th {\n",
       "        text-align: right;\n",
       "    }\n",
       "</style>\n",
       "<table border=\"1\" class=\"dataframe\">\n",
       "  <thead>\n",
       "    <tr style=\"text-align: right;\">\n",
       "      <th></th>\n",
       "      <th>conversion_rate</th>\n",
       "      <th>std_deviation</th>\n",
       "      <th>std_error</th>\n",
       "    </tr>\n",
       "    <tr>\n",
       "      <th>group</th>\n",
       "      <th></th>\n",
       "      <th></th>\n",
       "      <th></th>\n",
       "    </tr>\n",
       "  </thead>\n",
       "  <tbody>\n",
       "    <tr>\n",
       "      <th>control</th>\n",
       "      <td>0.123305</td>\n",
       "      <td>0.328787</td>\n",
       "      <td>0.004786</td>\n",
       "    </tr>\n",
       "    <tr>\n",
       "      <th>treatment</th>\n",
       "      <td>0.125636</td>\n",
       "      <td>0.331438</td>\n",
       "      <td>0.004824</td>\n",
       "    </tr>\n",
       "  </tbody>\n",
       "</table>\n",
       "</div>"
      ],
      "text/plain": [
       "           conversion_rate  std_deviation  std_error\n",
       "group                                               \n",
       "control           0.123305       0.328787   0.004786\n",
       "treatment         0.125636       0.331438   0.004824"
      ]
     },
     "execution_count": 175,
     "metadata": {},
     "output_type": "execute_result"
    }
   ],
   "source": [
    "conversion_rates = conversion_rates.agg([np.mean, std_p, se_p])\n",
    "conversion_rates.columns = ['conversion_rate', 'std_deviation', 'std_error']\n",
    "conversion_rates"
   ]
  },
  {
   "cell_type": "code",
   "execution_count": 176,
   "id": "528c0b37",
   "metadata": {
    "scrolled": true
   },
   "outputs": [
    {
     "name": "stderr",
     "output_type": "stream",
     "text": [
      "findfont: Font family 'Helvetica' not found.\n",
      "findfont: Font family 'Helvetica' not found.\n",
      "findfont: Font family 'Helvetica' not found.\n",
      "findfont: Font family 'Helvetica' not found.\n",
      "findfont: Font family 'Helvetica' not found.\n",
      "findfont: Font family 'Helvetica' not found.\n",
      "findfont: Font family 'Helvetica' not found.\n",
      "findfont: Font family 'Helvetica' not found.\n",
      "findfont: Font family 'Helvetica' not found.\n",
      "findfont: Font family 'Helvetica' not found.\n",
      "findfont: Font family 'Helvetica' not found.\n",
      "findfont: Font family 'Helvetica' not found.\n",
      "findfont: Font family 'Helvetica' not found.\n",
      "findfont: Font family 'Helvetica' not found.\n",
      "findfont: Font family 'Helvetica' not found.\n",
      "findfont: Font family 'Helvetica' not found.\n",
      "findfont: Font family 'Helvetica' not found.\n",
      "findfont: Font family 'Helvetica' not found.\n",
      "findfont: Font family 'Helvetica' not found.\n",
      "findfont: Font family 'Helvetica' not found.\n",
      "findfont: Font family 'Helvetica' not found.\n",
      "findfont: Font family 'Helvetica' not found.\n",
      "findfont: Font family 'Helvetica' not found.\n",
      "findfont: Font family 'Helvetica' not found.\n",
      "findfont: Font family 'Helvetica' not found.\n",
      "findfont: Font family 'Helvetica' not found.\n",
      "findfont: Font family 'Helvetica' not found.\n",
      "findfont: Font family 'Helvetica' not found.\n",
      "findfont: Font family 'Helvetica' not found.\n",
      "findfont: Font family 'Helvetica' not found.\n",
      "findfont: Font family 'Helvetica' not found.\n",
      "findfont: Font family 'Helvetica' not found.\n",
      "findfont: Font family 'Helvetica' not found.\n",
      "findfont: Font family 'Helvetica' not found.\n",
      "findfont: Font family 'Helvetica' not found.\n",
      "findfont: Font family 'Helvetica' not found.\n",
      "findfont: Font family 'Helvetica' not found.\n",
      "findfont: Font family 'Helvetica' not found.\n",
      "findfont: Font family 'Helvetica' not found.\n",
      "findfont: Font family 'Helvetica' not found.\n",
      "findfont: Font family 'Helvetica' not found.\n",
      "findfont: Font family 'Helvetica' not found.\n",
      "findfont: Font family 'Helvetica' not found.\n",
      "findfont: Font family 'Helvetica' not found.\n",
      "findfont: Font family 'Helvetica' not found.\n",
      "findfont: Font family 'Helvetica' not found.\n",
      "findfont: Font family 'Helvetica' not found.\n",
      "findfont: Font family 'Helvetica' not found.\n",
      "findfont: Font family 'Helvetica' not found.\n",
      "findfont: Font family 'Helvetica' not found.\n",
      "findfont: Font family 'Helvetica' not found.\n",
      "findfont: Font family 'Helvetica' not found.\n",
      "findfont: Font family 'Helvetica' not found.\n",
      "findfont: Font family 'Helvetica' not found.\n",
      "findfont: Font family 'Helvetica' not found.\n",
      "findfont: Font family 'Helvetica' not found.\n",
      "findfont: Font family 'Helvetica' not found.\n",
      "findfont: Font family 'Helvetica' not found.\n"
     ]
    },
    {
     "data": {
      "image/png": "[encoded data removed]",
      "text/plain": [
       "<Figure size 800x600 with 1 Axes>"
      ]
     },
     "metadata": {},
     "output_type": "display_data"
    }
   ],
   "source": [
    "plt.figure(figsize=(8,6));\n",
    "\n",
    "sns.barplot(x=ab_test['group'], y=ab_test['converted']);\n",
    "plt.title('Conversion rate by group');\n",
    "plt.xlabel('Group');\n",
    "plt.ylabel('Converted (proportion)');"
   ]
  },
  {
   "cell_type": "code",
   "execution_count": null,
   "id": "b5fd5c4e",
   "metadata": {},
   "outputs": [],
   "source": []
  },
  {
   "cell_type": "code",
   "execution_count": 177,
   "id": "44fd6ca3",
   "metadata": {},
   "outputs": [],
   "source": [
    "from statsmodels.stats.proportion import proportions_ztest, proportion_confint"
   ]
  },
  {
   "cell_type": "code",
   "execution_count": 178,
   "id": "4f76a588",
   "metadata": {},
   "outputs": [],
   "source": [
    "control_results = ab_test[ab_test['group'] == 'control']['converted']\n",
    "treatment_results = ab_test[ab_test['group'] == 'treatment']['converted']"
   ]
  },
  {
   "cell_type": "code",
   "execution_count": 179,
   "id": "dfc09783",
   "metadata": {},
   "outputs": [],
   "source": [
    "n_con = control_results.count()\n",
    "n_treat = treatment_results.count()\n",
    "\n",
    "successes = [control_results.sum(), treatment_results.sum()]\n",
    "nobs = [n_con, n_treat]"
   ]
  },
  {
   "cell_type": "code",
   "execution_count": 180,
   "id": "1423fa16",
   "metadata": {},
   "outputs": [
    {
     "name": "stdout",
     "output_type": "stream",
     "text": [
      "z statistics: -0.34\n",
      "p-value: 0.732\n",
      "ci 95% for control group: [0.114, 0.133]\n",
      "ci 95% for treatment group: [0.116, 0.135]\n"
     ]
    }
   ],
   "source": [
    "z_stat, pval = proportions_ztest(successes, nobs=nobs)\n",
    "(lower_con, lower_treat), (upper_con, upper_treat) = proportion_confint(successes, nobs=nobs, alpha=0.05)\n",
    "\n",
    "\n",
    "print(f'z statistics: {z_stat:.2f}')\n",
    "print(f'p-value: {pval:.3f}')\n",
    "print(f'ci 95% for control group: [{lower_con:.3f}, {upper_con:.3f}]')\n",
    "print(f'ci 95% for treatment group: [{lower_treat:.3f}, {upper_treat:.3f}]')"
   ]
  },
  {
   "cell_type": "code",
   "execution_count": null,
   "id": "5c8964d5",
   "metadata": {},
   "outputs": [],
   "source": []
  },
  {
   "cell_type": "code",
   "execution_count": null,
   "id": "728e4d7c",
   "metadata": {},
   "outputs": [],
   "source": []
  },
  {
   "cell_type": "code",
   "execution_count": null,
   "id": "d77974a4",
   "metadata": {},
   "outputs": [],
   "source": []
  },
  {
   "cell_type": "code",
   "execution_count": null,
   "id": "a598371d",
   "metadata": {},
   "outputs": [],
   "source": []
  }
 ],
 "metadata": {
  "kernelspec": {
   "display_name": "Python 3 (ipykernel)",
   "language": "python",
   "name": "python3"
  },
  "language_info": {
   "codemirror_mode": {
    "name": "ipython",
    "version": 3
   },
   "file_extension": ".py",
   "mimetype": "text/x-python",
   "name": "python",
   "nbconvert_exporter": "python",
   "pygments_lexer": "ipython3",
   "version": "3.11.5"
  }
 },
 "nbformat": 4,
 "nbformat_minor": 5
}
